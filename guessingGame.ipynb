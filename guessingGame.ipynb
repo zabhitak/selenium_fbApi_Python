{
 "metadata": {
  "language_info": {
   "codemirror_mode": {
    "name": "ipython",
    "version": 3
   },
   "file_extension": ".py",
   "mimetype": "text/x-python",
   "name": "python",
   "nbconvert_exporter": "python",
   "pygments_lexer": "ipython3",
   "version": 3
  },
  "orig_nbformat": 2,
  "kernelspec": {
   "name": "python_defaultSpec_1595657829120",
   "display_name": "Python 3.7.4 64-bit"
  }
 },
 "nbformat": 4,
 "nbformat_minor": 2,
 "cells": [
  {
   "cell_type": "code",
   "execution_count": null,
   "metadata": {},
   "outputs": [],
   "source": [
    "import random\n",
    "name = input(\"Enter your name: \")\n",
    "print(f\"Hello {name}! Welcome to the guessing game!\")\n",
    "words = [\"guessing\",\"apple\",\"earphones\",\"macbook\",\"python\",\n",
    "        \"television\", \"sunset\",\"opensource\"]\n",
    "# get a random word from this list\n",
    "index = random.randint(0, len(words))\n",
    "word = words[index]\n",
    "indexes = random.sample(range(0, len(word)), 3)\n",
    "guesses = \"\" #characters that the user has guessed so far\n",
    "for i in indexes:\n",
    "    guesses += word[i]\n",
    "chances = 10\n",
    "play = \"Yes\"\n",
    "def playagain():\n",
    "    # this will help you understad scoping\n",
    "    global play\n",
    "    play = input(\"Do you want to play again? (Yes/No): \")\n",
    "    if play == \"Yes\":\n",
    "        global chances, word, guesses\n",
    "        chances = 10\n",
    "        index = random.randint(0, len(words))\n",
    "        word = words[index]\n",
    "        indexes = random.sample(range(0, len(word)), 3)\n",
    "        guesses = \"\" \n",
    "        for i in indexes:\n",
    "            guesses += word[i]\n",
    "\n",
    "# this play is global variable\n",
    "while play == \"Yes\":\n",
    "    while chances > 0:\n",
    "        won = True\n",
    "        for ch in word:\n",
    "            if ch in guesses: # the person has guessed\n",
    "                print(ch, end=\" \")\n",
    "            else:\n",
    "                print(\"_\", end=\" \")\n",
    "                won = False\n",
    "\n",
    "        if won:\n",
    "            print(\"\\nYou Won!\")\n",
    "            print(f\"Your score is {chances * 10}\")\n",
    "            playagain()\n",
    "            break\n",
    "\n",
    "        # take a guess from the user\n",
    "        guess = input(\"\\nGuess a character: \")\n",
    "        guesses += guess\n",
    "\n",
    "        if guess not in word:\n",
    "            chances -= 1\n",
    "            print(\"\\nWrong Answer!!\")\n",
    "            print(f\"You have {chances} chances left!\")\n",
    "\n",
    "            if chances == 0:\n",
    "                print(\"You Lose!!\")\n",
    "                playagain()\n",
    "                break\n",
    "print(\"Thanks for playing!\")"
   ]
  },
  {
   "cell_type": "code",
   "execution_count": 15,
   "metadata": {},
   "outputs": [
    {
     "output_type": "execute_result",
     "data": {
      "text/plain": "'b:\\\\python\\\\Guessing_Game'"
     },
     "metadata": {},
     "execution_count": 15
    }
   ],
   "source": [
    "import os\n",
    "\n",
    "os.__file__\n",
    "\n",
    "os.listdir()\n",
    "\n",
    "os.getcwd()\n",
    "\n",
    "os.mkdir('Demo')"
   ]
  }
 ]
}