{
 "metadata": {
  "language_info": {
   "codemirror_mode": {
    "name": "ipython",
    "version": 3
   },
   "file_extension": ".py",
   "mimetype": "text/x-python",
   "name": "python",
   "nbconvert_exporter": "python",
   "pygments_lexer": "ipython3",
   "version": 3
  },
  "orig_nbformat": 2,
  "kernelspec": {
   "name": "python_defaultSpec_1595691339031",
   "display_name": "Python 3.7.4 64-bit"
  }
 },
 "nbformat": 4,
 "nbformat_minor": 2,
 "cells": [
  {
   "cell_type": "code",
   "execution_count": 1,
   "metadata": {},
   "outputs": [],
   "source": [
    "url = 'http://africau.edu/images/default/sample.pdf'"
   ]
  },
  {
   "cell_type": "code",
   "execution_count": 16,
   "metadata": {},
   "outputs": [],
   "source": [
    " import requests \n",
    " from tqdm import tqdm\n",
    " import math\n",
    " import time\n",
    " r = requests.get(url,stream=True)# will not get data at once, will get data one by one"
   ]
  },
  {
   "cell_type": "code",
   "execution_count": 10,
   "metadata": {},
   "outputs": [],
   "source": [
    "# r.headers\n",
    "# at one time, I just want to download 256 bytes\n",
    "chunk_size = 256"
   ]
  },
  {
   "cell_type": "code",
   "execution_count": 11,
   "metadata": {},
   "outputs": [],
   "source": [
    "# type(r.headers)\n",
    "size = int(r.headers['Content-Length'])\n",
    "\n",
    "n = math.ceil(size/chunk_size)"
   ]
  },
  {
   "cell_type": "code",
   "execution_count": 15,
   "metadata": {
    "tags": []
   },
   "outputs": [
    {
     "output_type": "stream",
     "name": "stderr",
     "text": "100%|██████████| 12/12 [00:00<00:00, 3851.52it/s]\n"
    }
   ],
   "source": [
    "# file handling\n",
    "with open(\"file.pdf\", \"wb\") as file:  # w - write, b- binary\n",
    "    for chunk in tqdm(r.iter_content(chunk_size=chunk_size), total=n):\n",
    "        time.sleep(0.5)\n",
    "        file.write(chunk)"
   ]
  },
  {
   "cell_type": "code",
   "execution_count": null,
   "metadata": {},
   "outputs": [],
   "source": []
  }
 ]
}